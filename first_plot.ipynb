{
 "cells": [
  {
   "cell_type": "markdown",
   "id": "a66ac8ea-abd0-4262-a9d5-86cb35d06410",
   "metadata": {},
   "source": [
    "# Exploring data through visualization in Jupyter\n"
   ]
  },
  {
   "cell_type": "markdown",
   "id": "fd2bd217",
   "metadata": {},
   "source": [
    "We will use data from Finnish Meteorological institute, which is already provided. \n",
    "\n",
    "> If you want to get your own dataset to play around with, you can choose the dataset and download a csv (comma separated value) file from : <https://en.ilmatieteenlaitos.fi/download-observations>. \n",
    "> For this Notebook to work, please make sure to download data from one date only and put it in the same place where `Tapiola_25Oct25.csv` is located. \n",
    "\n",
    "The datasets provided for this demo/exercise are from Vihti and Espoo in Finland of 25.10.2025. "
   ]
  },
  {
   "cell_type": "markdown",
   "id": "85e2c169",
   "metadata": {},
   "source": [
    "This notebook uses Python to explore one csv file at a time. It is an example of **data exploration** when you take your first look at a dataset. \n",
    "\n",
    "## Let's use some Python code to create a plot of the temperature and rainfall "
   ]
  },
  {
   "cell_type": "markdown",
   "id": "00c47b40",
   "metadata": {},
   "source": [
    "First, we need to get some tools to explore the data, in Python this is done using the `import` functionality. We will use `pandas` for handling the table, and `pyplot`, which is includes in `matplotlib` as visualization tool. "
   ]
  },
  {
   "cell_type": "code",
   "execution_count": 1,
   "id": "6d88ec98",
   "metadata": {},
   "outputs": [],
   "source": [
    "import pandas \n",
    "import matplotlib.pyplot  as pyplot"
   ]
  },
  {
   "cell_type": "markdown",
   "id": "c613ae40",
   "metadata": {},
   "source": [
    "Then we need to specify which file we want to read, and read it into memory as a `dataframe` (we call it df) with `pandas`. "
   ]
  },
  {
   "cell_type": "code",
   "execution_count": 2,
   "id": "9f6beca0",
   "metadata": {},
   "outputs": [],
   "source": [
    "csv_file = \"Tapiola_25Oct25.csv\"  # Replace with your file name\n",
    "\n",
    "# read the csv file into memory\n",
    "df = pandas.read_csv(csv_file)"
   ]
  },
  {
   "cell_type": "markdown",
   "id": "cac5ecac",
   "metadata": {},
   "source": [
    "We now can explore what data was in the csv file, by looking at the columns or also look at the full table. "
   ]
  },
  {
   "cell_type": "code",
   "execution_count": 3,
   "id": "82742f07",
   "metadata": {},
   "outputs": [
    {
     "data": {
      "text/plain": [
       "Index(['Observation station', 'Year', 'Month', 'Day', 'Time [Local time]',\n",
       "       'Minimum temperature [°C]', 'Precipitation [mm]'],\n",
       "      dtype='object')"
      ]
     },
     "execution_count": 3,
     "metadata": {},
     "output_type": "execute_result"
    }
   ],
   "source": [
    "df.columns"
   ]
  },
  {
   "cell_type": "code",
   "execution_count": 4,
   "id": "10088ba6",
   "metadata": {},
   "outputs": [
    {
     "data": {
      "text/html": [
       "<div>\n",
       "<style scoped>\n",
       "    .dataframe tbody tr th:only-of-type {\n",
       "        vertical-align: middle;\n",
       "    }\n",
       "\n",
       "    .dataframe tbody tr th {\n",
       "        vertical-align: top;\n",
       "    }\n",
       "\n",
       "    .dataframe thead th {\n",
       "        text-align: right;\n",
       "    }\n",
       "</style>\n",
       "<table border=\"1\" class=\"dataframe\">\n",
       "  <thead>\n",
       "    <tr style=\"text-align: right;\">\n",
       "      <th></th>\n",
       "      <th>Observation station</th>\n",
       "      <th>Year</th>\n",
       "      <th>Month</th>\n",
       "      <th>Day</th>\n",
       "      <th>Time [Local time]</th>\n",
       "      <th>Minimum temperature [°C]</th>\n",
       "      <th>Precipitation [mm]</th>\n",
       "    </tr>\n",
       "  </thead>\n",
       "  <tbody>\n",
       "    <tr>\n",
       "      <th>0</th>\n",
       "      <td>Espoo Tapiola</td>\n",
       "      <td>2025</td>\n",
       "      <td>10</td>\n",
       "      <td>25</td>\n",
       "      <td>00:00</td>\n",
       "      <td>9.5</td>\n",
       "      <td>0.0</td>\n",
       "    </tr>\n",
       "    <tr>\n",
       "      <th>1</th>\n",
       "      <td>Espoo Tapiola</td>\n",
       "      <td>2025</td>\n",
       "      <td>10</td>\n",
       "      <td>25</td>\n",
       "      <td>01:00</td>\n",
       "      <td>9.5</td>\n",
       "      <td>0.3</td>\n",
       "    </tr>\n",
       "    <tr>\n",
       "      <th>2</th>\n",
       "      <td>Espoo Tapiola</td>\n",
       "      <td>2025</td>\n",
       "      <td>10</td>\n",
       "      <td>25</td>\n",
       "      <td>02:00</td>\n",
       "      <td>9.5</td>\n",
       "      <td>1.2</td>\n",
       "    </tr>\n",
       "    <tr>\n",
       "      <th>3</th>\n",
       "      <td>Espoo Tapiola</td>\n",
       "      <td>2025</td>\n",
       "      <td>10</td>\n",
       "      <td>25</td>\n",
       "      <td>03:00</td>\n",
       "      <td>9.6</td>\n",
       "      <td>0.6</td>\n",
       "    </tr>\n",
       "    <tr>\n",
       "      <th>4</th>\n",
       "      <td>Espoo Tapiola</td>\n",
       "      <td>2025</td>\n",
       "      <td>10</td>\n",
       "      <td>25</td>\n",
       "      <td>04:00</td>\n",
       "      <td>9.8</td>\n",
       "      <td>0.6</td>\n",
       "    </tr>\n",
       "    <tr>\n",
       "      <th>5</th>\n",
       "      <td>Espoo Tapiola</td>\n",
       "      <td>2025</td>\n",
       "      <td>10</td>\n",
       "      <td>25</td>\n",
       "      <td>05:00</td>\n",
       "      <td>10.0</td>\n",
       "      <td>0.5</td>\n",
       "    </tr>\n",
       "    <tr>\n",
       "      <th>6</th>\n",
       "      <td>Espoo Tapiola</td>\n",
       "      <td>2025</td>\n",
       "      <td>10</td>\n",
       "      <td>25</td>\n",
       "      <td>06:00</td>\n",
       "      <td>10.2</td>\n",
       "      <td>0.3</td>\n",
       "    </tr>\n",
       "    <tr>\n",
       "      <th>7</th>\n",
       "      <td>Espoo Tapiola</td>\n",
       "      <td>2025</td>\n",
       "      <td>10</td>\n",
       "      <td>25</td>\n",
       "      <td>07:00</td>\n",
       "      <td>10.3</td>\n",
       "      <td>1.0</td>\n",
       "    </tr>\n",
       "    <tr>\n",
       "      <th>8</th>\n",
       "      <td>Espoo Tapiola</td>\n",
       "      <td>2025</td>\n",
       "      <td>10</td>\n",
       "      <td>25</td>\n",
       "      <td>08:00</td>\n",
       "      <td>10.4</td>\n",
       "      <td>0.2</td>\n",
       "    </tr>\n",
       "    <tr>\n",
       "      <th>9</th>\n",
       "      <td>Espoo Tapiola</td>\n",
       "      <td>2025</td>\n",
       "      <td>10</td>\n",
       "      <td>25</td>\n",
       "      <td>09:00</td>\n",
       "      <td>10.6</td>\n",
       "      <td>0.0</td>\n",
       "    </tr>\n",
       "    <tr>\n",
       "      <th>10</th>\n",
       "      <td>Espoo Tapiola</td>\n",
       "      <td>2025</td>\n",
       "      <td>10</td>\n",
       "      <td>25</td>\n",
       "      <td>10:00</td>\n",
       "      <td>10.6</td>\n",
       "      <td>0.0</td>\n",
       "    </tr>\n",
       "    <tr>\n",
       "      <th>11</th>\n",
       "      <td>Espoo Tapiola</td>\n",
       "      <td>2025</td>\n",
       "      <td>10</td>\n",
       "      <td>25</td>\n",
       "      <td>11:00</td>\n",
       "      <td>10.7</td>\n",
       "      <td>0.0</td>\n",
       "    </tr>\n",
       "    <tr>\n",
       "      <th>12</th>\n",
       "      <td>Espoo Tapiola</td>\n",
       "      <td>2025</td>\n",
       "      <td>10</td>\n",
       "      <td>25</td>\n",
       "      <td>12:00</td>\n",
       "      <td>10.9</td>\n",
       "      <td>0.0</td>\n",
       "    </tr>\n",
       "    <tr>\n",
       "      <th>13</th>\n",
       "      <td>Espoo Tapiola</td>\n",
       "      <td>2025</td>\n",
       "      <td>10</td>\n",
       "      <td>25</td>\n",
       "      <td>13:00</td>\n",
       "      <td>11.0</td>\n",
       "      <td>0.0</td>\n",
       "    </tr>\n",
       "    <tr>\n",
       "      <th>14</th>\n",
       "      <td>Espoo Tapiola</td>\n",
       "      <td>2025</td>\n",
       "      <td>10</td>\n",
       "      <td>25</td>\n",
       "      <td>14:00</td>\n",
       "      <td>11.0</td>\n",
       "      <td>0.0</td>\n",
       "    </tr>\n",
       "    <tr>\n",
       "      <th>15</th>\n",
       "      <td>Espoo Tapiola</td>\n",
       "      <td>2025</td>\n",
       "      <td>10</td>\n",
       "      <td>25</td>\n",
       "      <td>15:00</td>\n",
       "      <td>10.9</td>\n",
       "      <td>0.0</td>\n",
       "    </tr>\n",
       "    <tr>\n",
       "      <th>16</th>\n",
       "      <td>Espoo Tapiola</td>\n",
       "      <td>2025</td>\n",
       "      <td>10</td>\n",
       "      <td>25</td>\n",
       "      <td>16:00</td>\n",
       "      <td>10.6</td>\n",
       "      <td>0.0</td>\n",
       "    </tr>\n",
       "    <tr>\n",
       "      <th>17</th>\n",
       "      <td>Espoo Tapiola</td>\n",
       "      <td>2025</td>\n",
       "      <td>10</td>\n",
       "      <td>25</td>\n",
       "      <td>17:00</td>\n",
       "      <td>10.4</td>\n",
       "      <td>0.0</td>\n",
       "    </tr>\n",
       "    <tr>\n",
       "      <th>18</th>\n",
       "      <td>Espoo Tapiola</td>\n",
       "      <td>2025</td>\n",
       "      <td>10</td>\n",
       "      <td>25</td>\n",
       "      <td>18:00</td>\n",
       "      <td>10.4</td>\n",
       "      <td>0.0</td>\n",
       "    </tr>\n",
       "    <tr>\n",
       "      <th>19</th>\n",
       "      <td>Espoo Tapiola</td>\n",
       "      <td>2025</td>\n",
       "      <td>10</td>\n",
       "      <td>25</td>\n",
       "      <td>19:00</td>\n",
       "      <td>10.4</td>\n",
       "      <td>0.1</td>\n",
       "    </tr>\n",
       "    <tr>\n",
       "      <th>20</th>\n",
       "      <td>Espoo Tapiola</td>\n",
       "      <td>2025</td>\n",
       "      <td>10</td>\n",
       "      <td>25</td>\n",
       "      <td>20:00</td>\n",
       "      <td>10.5</td>\n",
       "      <td>0.0</td>\n",
       "    </tr>\n",
       "    <tr>\n",
       "      <th>21</th>\n",
       "      <td>Espoo Tapiola</td>\n",
       "      <td>2025</td>\n",
       "      <td>10</td>\n",
       "      <td>25</td>\n",
       "      <td>21:00</td>\n",
       "      <td>10.4</td>\n",
       "      <td>0.0</td>\n",
       "    </tr>\n",
       "    <tr>\n",
       "      <th>22</th>\n",
       "      <td>Espoo Tapiola</td>\n",
       "      <td>2025</td>\n",
       "      <td>10</td>\n",
       "      <td>25</td>\n",
       "      <td>22:00</td>\n",
       "      <td>10.4</td>\n",
       "      <td>0.1</td>\n",
       "    </tr>\n",
       "    <tr>\n",
       "      <th>23</th>\n",
       "      <td>Espoo Tapiola</td>\n",
       "      <td>2025</td>\n",
       "      <td>10</td>\n",
       "      <td>25</td>\n",
       "      <td>23:00</td>\n",
       "      <td>10.4</td>\n",
       "      <td>0.0</td>\n",
       "    </tr>\n",
       "  </tbody>\n",
       "</table>\n",
       "</div>"
      ],
      "text/plain": [
       "   Observation station  Year  Month  Day Time [Local time]  \\\n",
       "0        Espoo Tapiola  2025     10   25             00:00   \n",
       "1        Espoo Tapiola  2025     10   25             01:00   \n",
       "2        Espoo Tapiola  2025     10   25             02:00   \n",
       "3        Espoo Tapiola  2025     10   25             03:00   \n",
       "4        Espoo Tapiola  2025     10   25             04:00   \n",
       "5        Espoo Tapiola  2025     10   25             05:00   \n",
       "6        Espoo Tapiola  2025     10   25             06:00   \n",
       "7        Espoo Tapiola  2025     10   25             07:00   \n",
       "8        Espoo Tapiola  2025     10   25             08:00   \n",
       "9        Espoo Tapiola  2025     10   25             09:00   \n",
       "10       Espoo Tapiola  2025     10   25             10:00   \n",
       "11       Espoo Tapiola  2025     10   25             11:00   \n",
       "12       Espoo Tapiola  2025     10   25             12:00   \n",
       "13       Espoo Tapiola  2025     10   25             13:00   \n",
       "14       Espoo Tapiola  2025     10   25             14:00   \n",
       "15       Espoo Tapiola  2025     10   25             15:00   \n",
       "16       Espoo Tapiola  2025     10   25             16:00   \n",
       "17       Espoo Tapiola  2025     10   25             17:00   \n",
       "18       Espoo Tapiola  2025     10   25             18:00   \n",
       "19       Espoo Tapiola  2025     10   25             19:00   \n",
       "20       Espoo Tapiola  2025     10   25             20:00   \n",
       "21       Espoo Tapiola  2025     10   25             21:00   \n",
       "22       Espoo Tapiola  2025     10   25             22:00   \n",
       "23       Espoo Tapiola  2025     10   25             23:00   \n",
       "\n",
       "    Minimum temperature [°C]  Precipitation [mm]  \n",
       "0                        9.5                 0.0  \n",
       "1                        9.5                 0.3  \n",
       "2                        9.5                 1.2  \n",
       "3                        9.6                 0.6  \n",
       "4                        9.8                 0.6  \n",
       "5                       10.0                 0.5  \n",
       "6                       10.2                 0.3  \n",
       "7                       10.3                 1.0  \n",
       "8                       10.4                 0.2  \n",
       "9                       10.6                 0.0  \n",
       "10                      10.6                 0.0  \n",
       "11                      10.7                 0.0  \n",
       "12                      10.9                 0.0  \n",
       "13                      11.0                 0.0  \n",
       "14                      11.0                 0.0  \n",
       "15                      10.9                 0.0  \n",
       "16                      10.6                 0.0  \n",
       "17                      10.4                 0.0  \n",
       "18                      10.4                 0.0  \n",
       "19                      10.4                 0.1  \n",
       "20                      10.5                 0.0  \n",
       "21                      10.4                 0.0  \n",
       "22                      10.4                 0.1  \n",
       "23                      10.4                 0.0  "
      ]
     },
     "execution_count": 4,
     "metadata": {},
     "output_type": "execute_result"
    }
   ],
   "source": [
    "df"
   ]
  },
  {
   "cell_type": "markdown",
   "id": "a192d6a5",
   "metadata": {},
   "source": [
    "Looks good!\n",
    "\n",
    "Now let's visualize the data...\n",
    "\n",
    "Matplotlib has many options for customizing the visualization (the \"plot\"). Pyplot makes a first look at the data as easy as providing the two columns you want to plot as arguments and using the `plot` functionality. We would like to see minimum temperature over time. "
   ]
  },
  {
   "cell_type": "code",
   "execution_count": 5,
   "id": "3f1088af",
   "metadata": {},
   "outputs": [
    {
     "data": {
      "text/plain": [
       "[<matplotlib.lines.Line2D at 0x701d46f00da0>]"
      ]
     },
     "execution_count": 5,
     "metadata": {},
     "output_type": "execute_result"
    },
    {
     "data": {
      "image/png": "[encoded data removed]",
      "text/plain": [
       "<Figure size 640x480 with 1 Axes>"
      ]
     },
     "metadata": {},
     "output_type": "display_data"
    }
   ],
   "source": [
    "pyplot.plot(df[\"Time [Local time]\"], df[\"Minimum temperature [°C]\"])"
   ]
  },
  {
   "cell_type": "markdown",
   "id": "f086813c",
   "metadata": {},
   "source": [
    "Good first look! Let's do the same for the rainfall (\"precipitation\"). 2 Ways. If we want to see them both at the same time we could add another cell below, and do the same thing as above. Or we change above cell to have \"Precipitation [mm]\" instead of \"Minimum temperature [°C]\". \n",
    "Try it out :) "
   ]
  },
  {
   "cell_type": "markdown",
   "id": "61556e24",
   "metadata": {},
   "source": [
    "Now this is great to get a first glimpse, but there are multiple issues, which may even prevent a good first look. \n",
    "Luckily `pylot` is very flexible and allows customizing our plot to show both datasets in one plot and add some more information to the plot. \n",
    "\n",
    "There are many details in the next code block which you do not need to worry about. \n",
    "\n",
    "Basically what we do is that we create an empty plot in a certain size, then we add the minimum temperature over time as red line to the plot and add some labels and color also the axis in red. Then we add the rainfall into the same figure as blue bar chart with its own axis in blue. \n",
    "\n",
    "In the end we give the plot a title including the name of the station from our dataset and visualize the resulting image. "
   ]
  },
  {
   "cell_type": "code",
   "execution_count": null,
   "id": "ba96bb22",
   "metadata": {},
   "outputs": [
    {
     "data": {
      "image/png": "[encoded data removed]",
      "text/plain": [
       "<Figure size 1000x500 with 2 Axes>"
      ]
     },
     "metadata": {},
     "output_type": "display_data"
    }
   ],
   "source": [
    "# create empty plot \n",
    "fig, ax1 = pyplot.subplots(figsize=(10, 5))\n",
    "\n",
    "# Plot temperature\n",
    "ax1.plot(df[\"Time [Local time]\"], df[\"Minimum temperature [°C]\"], color=\"red\", label=\"Min Temp (°C)\")\n",
    "ax1.set_xlabel(\"Time\")\n",
    "ax1.set_ylabel(\"Temperature (°C)\", color=\"red\")\n",
    "ax1.tick_params(axis='y', labelcolor=\"red\")\n",
    "\n",
    "# Plot precipitation on secondary y-axis\n",
    "ax2 = ax1.twinx()\n",
    "ax2.bar(df[\"Time [Local time]\"], df[\"Precipitation [mm]\"], color=\"blue\", label=\"Precipitation (mm)\")\n",
    "ax2.set_ylabel(\"Precipitation (mm)\", color=\"blue\")\n",
    "ax2.tick_params(axis='y', labelcolor=\"blue\")\n",
    "\n",
    "# Title and formatting\n",
    "pyplot.title(f\"Weather Observations – {df['Observation station'].iloc[0]}\")\n",
    "fig.autofmt_xdate() #makes the time stamps legible\n",
    "pyplot.show()"
   ]
  },
  {
   "cell_type": "markdown",
   "id": "df183fcb",
   "metadata": {},
   "source": [
    "Now this is a nice plot that shows us that during night, there was some rain while it was also rather cold, however not below 9 degrees -> Likely no danger of ice on the streets, but still good to be careful. \n",
    "\n"
   ]
  },
  {
   "cell_type": "markdown",
   "id": "870fec7a",
   "metadata": {},
   "source": [
    "What if we do not live in Espoo, but have a longer drive to work from Vihti? \n",
    "\n",
    "Let's do the same thing but with a new filename: `Vihti_25Oct25.csv`. "
   ]
  },
  {
   "cell_type": "markdown",
   "id": "c7ca2bfb",
   "metadata": {},
   "source": []
  }
 ],
 "metadata": {
  "kernelspec": {
   "display_name": "coderefinery",
   "language": "python",
   "name": "python3"
  },
  "language_info": {
   "codemirror_mode": {
    "name": "ipython",
    "version": 3
   },
   "file_extension": ".py",
   "mimetype": "text/x-python",
   "name": "python",
   "nbconvert_exporter": "python",
   "pygments_lexer": "ipython3",
   "version": "3.12.9"
  }
 },
 "nbformat": 4,
 "nbformat_minor": 5
}
