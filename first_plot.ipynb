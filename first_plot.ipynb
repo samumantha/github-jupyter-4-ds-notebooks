{
 "cells": [
  {
   "cell_type": "markdown",
   "id": "a66ac8ea-abd0-4262-a9d5-86cb35d06410",
   "metadata": {},
   "source": [
    "# Exploring data through visualization in Jupyter\n"
   ]
  },
  {
   "cell_type": "markdown",
   "id": "fd2bd217",
   "metadata": {},
   "source": [
    "We will use data from Finnish Meteorological institute, which is already provided. \n",
    "\n",
    "> If you want to get your own dataset to play around with, you can choose the dataset and download a csv (comma separated value) file from : <https://en.ilmatieteenlaitos.fi/download-observations>. \n",
    "> For this Notebook to work, please make sure to download data from one date only and put it in the same place where `Tapiola_25Oct25.csv` is located. \n",
    "\n",
    "The datasets provided for this demo/exercise are from Vihti and Espoo in Finland of 25.10.2025. "
   ]
  },
  {
   "cell_type": "markdown",
   "id": "85e2c169",
   "metadata": {},
   "source": [
    "This notebook uses Python to explore one csv file at a time. It is an example of **data exploration** when you take your first look at a dataset. \n",
    "\n",
    "## Let's use some Python code to create a plot of the temperature and rainfall "
   ]
  },
  {
   "cell_type": "markdown",
   "id": "00c47b40",
   "metadata": {},
   "source": [
    "First, we need to get some tools to explore the data, in Python this is done using the `import` functionality. We will use `pandas` for handling the table, and `pyplot`, which is includes in `matplotlib` as visualization tool. "
   ]
  },
  {
   "cell_type": "code",
   "execution_count": null,
   "id": "6d88ec98",
   "metadata": {},
   "outputs": [],
   "source": [
    "import pandas \n",
    "import matplotlib.pyplot  as pyplot"
   ]
  },
  {
   "cell_type": "markdown",
   "id": "c613ae40",
   "metadata": {},
   "source": [
    "Then we need to specify which file we want to read, and read it into memory as a `dataframe` (we call it df) with `pandas`. "
   ]
  },
  {
   "cell_type": "code",
   "execution_count": null,
   "id": "9f6beca0",
   "metadata": {},
   "outputs": [],
   "source": [
    "csv_file = \"Tapiola_25Oct25.csv\"  # Replace with your file name\n",
    "\n",
    "# read the csv file into memory\n",
    "df = pandas.read_csv(csv_file)"
   ]
  },
  {
   "cell_type": "markdown",
   "id": "cac5ecac",
   "metadata": {},
   "source": [
    "We now can explore what data was in the csv file, by looking at the columns or also look at the full table. "
   ]
  },
  {
   "cell_type": "code",
   "execution_count": null,
   "id": "82742f07",
   "metadata": {},
   "outputs": [],
   "source": [
    "df.columns"
   ]
  },
  {
   "cell_type": "code",
   "execution_count": null,
   "id": "10088ba6",
   "metadata": {},
   "outputs": [],
   "source": [
    "df"
   ]
  },
  {
   "cell_type": "markdown",
   "id": "a192d6a5",
   "metadata": {},
   "source": [
    "Looks good!\n",
    "\n",
    "Now let's visualize the data...\n",
    "\n",
    "Matplotlib has many options for customizing the visualization (the \"plot\"). Pyplot makes a first look at the data as easy as providing the two columns you want to plot as arguments and using the `plot` functionality. We would like to see minimum temperature over time. "
   ]
  },
  {
   "cell_type": "code",
   "execution_count": null,
   "id": "3f1088af",
   "metadata": {},
   "outputs": [],
   "source": [
    "pyplot.plot(df[\"Time [Local time]\"], df[\"Minimum temperature [°C]\"])"
   ]
  },
  {
   "cell_type": "markdown",
   "id": "f086813c",
   "metadata": {},
   "source": [
    "Good first look! Let's do the same for the rainfall (\"precipitation\"). 2 Ways. If we want to see them both at the same time we could add another cell below, and do the same thing as above. Or we change above cell to have \"Precipitation [mm]\" instead of \"Minimum temperature [°C]\". \n",
    "Try it out :) "
   ]
  },
  {
   "cell_type": "markdown",
   "id": "61556e24",
   "metadata": {},
   "source": [
    "Now this is great to get a first glimpse, but there are multiple issues, which may even prevent a good first look. \n",
    "Luckily `pylot` is very flexible and allows customizing our plot to show both datasets in one plot and add some more information to the plot. \n",
    "\n",
    "There are many details in the next code block which you do not need to worry about. \n",
    "\n",
    "Basically what we do is that we create an empty plot in a certain size, then we add the minimum temperature over time as red line to the plot and add some labels and color also the axis in red. Then we add the rainfall into the same figure as blue bar chart with its own axis in blue. \n",
    "\n",
    "In the end we give the plot a title including the name of the station from our dataset and visualize the resulting image. "
   ]
  },
  {
   "cell_type": "code",
   "execution_count": null,
   "id": "ba96bb22",
   "metadata": {},
   "outputs": [],
   "source": [
    "# create empty plot \n",
    "fig, ax1 = pyplot.subplots(figsize=(10, 5))\n",
    "\n",
    "# Plot temperature\n",
    "ax1.plot(df[\"Time [Local time]\"], df[\"Minimum temperature [°C]\"], color=\"red\", label=\"Min Temp (°C)\")\n",
    "ax1.set_xlabel(\"Time\")\n",
    "ax1.set_ylabel(\"Temperature (°C)\", color=\"red\")\n",
    "ax1.tick_params(axis='y', labelcolor=\"red\")\n",
    "\n",
    "# Plot precipitation on secondary y-axis\n",
    "ax2 = ax1.twinx()\n",
    "ax2.bar(df[\"Time [Local time]\"], df[\"Precipitation [mm]\"], color=\"blue\", label=\"Precipitation (mm)\")\n",
    "ax2.set_ylabel(\"Precipitation (mm)\", color=\"blue\")\n",
    "ax2.tick_params(axis='y', labelcolor=\"blue\")\n",
    "\n",
    "# Title and formatting\n",
    "pyplot.title(f\"Weather Observations – {df['Observation station'].iloc[0]}\")\n",
    "fig.autofmt_xdate() #makes the time stamps legible\n",
    "pyplot.show()"
   ]
  },
  {
   "cell_type": "markdown",
   "id": "df183fcb",
   "metadata": {},
   "source": [
    "Now this is a nice plot that shows us that during night, there was some rain while it was also rather cold, however not below 9 degrees -> Likely no danger of ice on the streets, but still good to be careful. \n",
    "\n"
   ]
  },
  {
   "cell_type": "markdown",
   "id": "870fec7a",
   "metadata": {},
   "source": [
    "What if we do not live in Espoo, but have a longer drive to work from Vihti? \n",
    "\n",
    "Let's do the same thing but with a new filename: `Vihti_25Oct25.csv`. "
   ]
  },
  {
   "cell_type": "markdown",
   "id": "c7ca2bfb",
   "metadata": {},
   "source": []
  }
 ],
 "metadata": {
  "kernelspec": {
   "display_name": "coderefinery",
   "language": "python",
   "name": "python3"
  },
  "language_info": {
   "codemirror_mode": {
    "name": "ipython",
    "version": 3
   },
   "file_extension": ".py",
   "mimetype": "text/x-python",
   "name": "python",
   "nbconvert_exporter": "python",
   "pygments_lexer": "ipython3",
   "version": "3.12.9"
  }
 },
 "nbformat": 4,
 "nbformat_minor": 5
}
